{
  "nbformat": 4,
  "nbformat_minor": 0,
  "metadata": {
    "colab": {
      "provenance": [],
      "collapsed_sections": [],
      "authorship_tag": "ABX9TyN9Lqb1Tb2AppLyuwyzPZa5",
      "include_colab_link": true
    },
    "kernelspec": {
      "name": "python3",
      "display_name": "Python 3"
    },
    "language_info": {
      "name": "python"
    }
  },
  "cells": [
    {
      "cell_type": "markdown",
      "metadata": {
        "id": "view-in-github",
        "colab_type": "text"
      },
      "source": [
        "<a href=\"https://colab.research.google.com/github/yashodhicy/Foodo/blob/chatbot/Foodrate_data.ipynb\" target=\"_parent\"><img src=\"https://colab.research.google.com/assets/colab-badge.svg\" alt=\"Open In Colab\"/></a>"
      ]
    },
    {
      "cell_type": "code",
      "execution_count": 4,
      "metadata": {
        "id": "JMKTEFnc6Q-0"
      },
      "outputs": [],
      "source": [
        "#import necessary datafiles\n",
        "import warnings\n",
        "warnings.filterwarnings(\"ignore\")\n",
        "import nltk\n",
        "from nltk.stem import WordNetLemmatizer\n",
        "import json\n",
        "import pickle\n",
        "import numpy as np \n",
        "from tensorflow.keras.models import Sequential\n",
        "from tensorflow.keras.layers import Dense,Activation,Dropout\n",
        "import random\n",
        "from keras.models import load_model\n",
        "\n"
      ]
    },
    {
      "cell_type": "code",
      "source": [
        "# git clone and read training json\n",
        "words=[]\n",
        "classes = []\n",
        "documents = []\n",
        "ignore_words = ['?', '!']\n",
        "\n",
        "!git clone \"https://github.com/yashodhicy/Foodo.git\"\n",
        "\n",
        "data_file =open(\"/content/Foodo/trainbot.json\").read()\n",
        "intents = json.loads(data_file)\n",
        "#print(intents)"
      ],
      "metadata": {
        "colab": {
          "base_uri": "https://localhost:8080/"
        },
        "id": "sowtTC9WqBN-",
        "outputId": "1cbaa703-eb7b-435e-f86c-77dc38b5a0e6"
      },
      "execution_count": 5,
      "outputs": [
        {
          "output_type": "stream",
          "name": "stdout",
          "text": [
            "Cloning into 'Foodo'...\n",
            "remote: Enumerating objects: 8, done.\u001b[K\n",
            "remote: Counting objects: 100% (8/8), done.\u001b[K\n",
            "remote: Compressing objects: 100% (7/7), done.\u001b[K\n",
            "remote: Total 8 (delta 1), reused 3 (delta 0), pack-reused 0\u001b[K\n",
            "Unpacking objects: 100% (8/8), done.\n"
          ]
        }
      ]
    },
    {
      "cell_type": "markdown",
      "source": [
        "pre processing step"
      ],
      "metadata": {
        "id": "CWx_hv6myhxo"
      }
    },
    {
      "cell_type": "code",
      "source": [
        "#tokenizing json file\n",
        "nltk.download('punkt')\n",
        "nltk.download('wordnet')\n",
        "for intent in intents['intents']:\n",
        "  for pattern in intent['patterns']:\n",
        "#tokenize each word\n",
        "        w = nltk.word_tokenize(pattern)\n",
        "        #print(w)\n",
        "        words.extend(w)\n",
        "        #add documents in the corpus\n",
        "        documents.append((w, intent['tag']))\n",
        "\n",
        "        # add to our classes list\n",
        "        if intent['tag'] not in classes:\n",
        "            classes.append(intent['tag'])\n",
        "print(words)\n",
        "#print(documents)\n",
        "#print(classes)"
      ],
      "metadata": {
        "colab": {
          "base_uri": "https://localhost:8080/"
        },
        "id": "pD2OW3eeylfX",
        "outputId": "8d955970-6d70-4e1e-b72e-be18ba352017"
      },
      "execution_count": 6,
      "outputs": [
        {
          "output_type": "stream",
          "name": "stderr",
          "text": [
            "[nltk_data] Downloading package punkt to /root/nltk_data...\n",
            "[nltk_data]   Unzipping tokenizers/punkt.zip.\n"
          ]
        },
        {
          "output_type": "stream",
          "name": "stdout",
          "text": [
            "['hi', 'how', 'are', 'you', 'is', 'anyone', 'there', 'hello', 'whats', 'up', 'hey', 'yo', 'listen', 'please', 'help', 'me', 'i', 'am', 'learner', 'from', 'i', 'belong', 'to', 'aiml', 'batch', 'aifl', 'batch', 'i', 'am', 'from', 'my', 'pm', 'is', 'blended', 'online', 'i', 'am', 'from', 'hey', 'ya', 'talking', 'to', 'you', 'for', 'first', 'time', 'thank', 'you', 'thanks', 'cya', 'see', 'you', 'later', 'see', 'you', 'later', 'goodbye', 'i', 'am', 'leaving', 'have', 'a', 'Good', 'day', 'you', 'helped', 'me', 'thanks', 'a', 'lot', 'thanks', 'a', 'ton', 'you', 'are', 'the', 'best', 'great', 'help', 'too', 'good', 'you', 'are', 'a', 'good', 'learning', 'buddy', 'olympus', 'explain', 'me', 'how', 'olympus', 'works', 'I', 'am', 'not', 'able', 'to', 'understand', 'olympus', 'olympus', 'window', 'not', 'working', 'no', 'access', 'to', 'olympus', 'unable', 'to', 'see', 'link', 'in', 'olympus', 'no', 'link', 'visible', 'on', 'olympus', 'whom', 'to', 'contact', 'for', 'olympus', 'lot', 'of', 'problem', 'with', 'olympus', 'olypus', 'is', 'not', 'a', 'good', 'tool', 'lot', 'of', 'problems', 'with', 'olympus', 'how', 'to', 'use', 'olympus', 'teach', 'me', 'olympus', 'i', 'am', 'not', 'able', 'to', 'understand', 'svm', 'explain', 'me', 'how', 'machine', 'learning', 'works', 'i', 'am', 'not', 'able', 'to', 'understand', 'naive', 'bayes', 'i', 'am', 'not', 'able', 'to', 'understand', 'logistic', 'regression', 'i', 'am', 'not', 'able', 'to', 'understand', 'ensemble', 'techb=niques', 'i', 'am', 'not', 'able', 'to', 'understand', 'knn', 'i', 'am', 'not', 'able', 'to', 'understand', 'knn', 'imputer', 'i', 'am', 'not', 'able', 'to', 'understand', 'cross', 'validation', 'i', 'am', 'not', 'able', 'to', 'understand', 'boosting', 'i', 'am', 'not', 'able', 'to', 'understand', 'random', 'forest', 'i', 'am', 'not', 'able', 'to', 'understand', 'ada', 'boosting', 'i', 'am', 'not', 'able', 'to', 'understand', 'gradient', 'boosting', 'machine', 'learning', 'ML', 'SL', 'supervised', 'learning', 'knn', 'logistic', 'regression', 'regression', 'classification', 'naive', 'bayes', 'nb', 'ensemble', 'techniques', 'bagging', 'boosting', 'ada', 'boosting', 'ada', 'gradient', 'boosting', 'hyper', 'parameters', 'what', 'is', 'deep', 'learning', 'unable', 'to', 'understand', 'deep', 'learning', 'explain', 'me', 'how', 'deep', 'learning', 'works', 'i', 'am', 'not', 'able', 'to', 'understand', 'deep', 'learning', 'not', 'able', 'to', 'understand', 'neural', 'nets', 'very', 'diffult', 'to', 'understand', 'neural', 'nets', 'unable', 'to', 'understand', 'neural', 'nets', 'ann', 'artificial', 'intelligence', 'artificial', 'neural', 'networks', 'weights', 'activation', 'function', 'hidden', 'layers', 'softmax', 'sigmoid', 'relu', 'otimizer', 'forward', 'propagation', 'backward', 'propagation', 'epochs', 'epoch', 'what', 'is', 'an', 'epoch', 'adam', 'sgd', 'what', 'is', 'your', 'name', 'who', 'are', 'you', 'name', 'please', 'when', 'are', 'your', 'hours', 'of', 'opertions', 'what', 'are', 'your', 'working', 'hours', 'hours', 'of', 'operation', 'working', 'hours', 'hours', 'what', 'the', 'hell', 'bloody', 'stupid', 'bot', 'do', 'you', 'think', 'you', 'are', 'very', 'smart', 'screw', 'you', 'i', 'hate', 'you', 'you', 'are', 'stupid', 'jerk', 'you', 'are', 'a', 'joke', 'useless', 'piece', 'of', 'shit', 'my', 'problem', 'is', 'not', 'solved', 'you', 'did', 'not', 'help', 'me', 'not', 'a', 'good', 'solution', 'bad', 'solution', 'not', 'good', 'solution', 'no', 'help', 'wasted', 'my', 'time', 'useless', 'bot', 'create', 'a', 'ticket']\n"
          ]
        },
        {
          "output_type": "stream",
          "name": "stderr",
          "text": [
            "[nltk_data] Downloading package wordnet to /root/nltk_data...\n"
          ]
        }
      ]
    },
    {
      "cell_type": "markdown",
      "source": [
        "Remove duplications"
      ],
      "metadata": {
        "id": "aihkY4vZtqGO"
      }
    },
    {
      "cell_type": "code",
      "source": [
        "#lemmatize, remove duplications, all words to lower case\n",
        "nltk.download('omw-1.4')\n",
        "\n",
        "# create an object of WordNetLemmatizer\n",
        "lemmatizer = WordNetLemmatizer()\n",
        "print(words)\n",
        "words2 = [lemmatizer.lemmatize(w.lower()) for w in words if w not in ignore_words]\n",
        "\n",
        "# li = []\n",
        "# li = [item for item in words if item not in words2]\n",
        "# print(li)\n",
        "\n",
        "words = sorted(list(set(words)))\n",
        "print(words)\n",
        "#  sort calsses\n",
        "classes = sorted(list(set(classes)))\n",
        "print(classes)\n",
        "\n",
        "# documents = combination between patterns and intents\n",
        "print (len(documents), \"documents\",documents)\n",
        "\n",
        "# classes = intents\n",
        "print (len(classes), \"classes\", classes)\n",
        "\n",
        "# words = all words, vocabulary\n",
        "print (len(words), \"unique lemmatized words\", words)\n",
        "\n",
        "# creating a pickle file to store the Python objects which we will use while predicting\n",
        "pickle.dump(words,open('words.pkl','wb')) \n",
        "pickle.dump(classes,open('classes.pkl','wb'))"
      ],
      "metadata": {
        "colab": {
          "base_uri": "https://localhost:8080/"
        },
        "id": "IloVXlkjttot",
        "outputId": "8ddd8f38-4b67-4f57-959d-afc1341788fb"
      },
      "execution_count": 8,
      "outputs": [
        {
          "output_type": "stream",
          "name": "stdout",
          "text": [
            "['Good', 'I', 'ML', 'SL', 'a', 'able', 'access', 'activation', 'ada', 'adam', 'aifl', 'aiml', 'am', 'an', 'ann', 'anyone', 'are', 'artificial', 'backward', 'bad', 'bagging', 'batch', 'bayes', 'belong', 'best', 'blended', 'bloody', 'boosting', 'bot', 'buddy', 'classification', 'contact', 'create', 'cross', 'cya', 'day', 'deep', 'did', 'diffult', 'do', 'ensemble', 'epoch', 'epochs', 'explain', 'first', 'for', 'forest', 'forward', 'from', 'function', 'good', 'goodbye', 'gradient', 'great', 'hate', 'have', 'hell', 'hello', 'help', 'helped', 'hey', 'hi', 'hidden', 'hours', 'how', 'hyper', 'i', 'imputer', 'in', 'intelligence', 'is', 'jerk', 'joke', 'knn', 'later', 'layers', 'learner', 'learning', 'leaving', 'link', 'listen', 'logistic', 'lot', 'machine', 'me', 'my', 'naive', 'name', 'nb', 'nets', 'networks', 'neural', 'no', 'not', 'of', 'olympus', 'olypus', 'on', 'online', 'operation', 'opertions', 'otimizer', 'parameters', 'piece', 'please', 'pm', 'problem', 'problems', 'propagation', 'random', 'regression', 'relu', 'screw', 'see', 'sgd', 'shit', 'sigmoid', 'smart', 'softmax', 'solution', 'solved', 'stupid', 'supervised', 'svm', 'talking', 'teach', 'techb=niques', 'techniques', 'thank', 'thanks', 'the', 'there', 'think', 'ticket', 'time', 'to', 'ton', 'too', 'tool', 'unable', 'understand', 'up', 'use', 'useless', 'validation', 'very', 'visible', 'wasted', 'weights', 'what', 'whats', 'when', 'who', 'whom', 'window', 'with', 'working', 'works', 'ya', 'yo', 'you', 'your']\n",
            "['Good', 'I', 'ML', 'SL', 'a', 'able', 'access', 'activation', 'ada', 'adam', 'aifl', 'aiml', 'am', 'an', 'ann', 'anyone', 'are', 'artificial', 'backward', 'bad', 'bagging', 'batch', 'bayes', 'belong', 'best', 'blended', 'bloody', 'boosting', 'bot', 'buddy', 'classification', 'contact', 'create', 'cross', 'cya', 'day', 'deep', 'did', 'diffult', 'do', 'ensemble', 'epoch', 'epochs', 'explain', 'first', 'for', 'forest', 'forward', 'from', 'function', 'good', 'goodbye', 'gradient', 'great', 'hate', 'have', 'hell', 'hello', 'help', 'helped', 'hey', 'hi', 'hidden', 'hours', 'how', 'hyper', 'i', 'imputer', 'in', 'intelligence', 'is', 'jerk', 'joke', 'knn', 'later', 'layers', 'learner', 'learning', 'leaving', 'link', 'listen', 'logistic', 'lot', 'machine', 'me', 'my', 'naive', 'name', 'nb', 'nets', 'networks', 'neural', 'no', 'not', 'of', 'olympus', 'olypus', 'on', 'online', 'operation', 'opertions', 'otimizer', 'parameters', 'piece', 'please', 'pm', 'problem', 'problems', 'propagation', 'random', 'regression', 'relu', 'screw', 'see', 'sgd', 'shit', 'sigmoid', 'smart', 'softmax', 'solution', 'solved', 'stupid', 'supervised', 'svm', 'talking', 'teach', 'techb=niques', 'techniques', 'thank', 'thanks', 'the', 'there', 'think', 'ticket', 'time', 'to', 'ton', 'too', 'tool', 'unable', 'understand', 'up', 'use', 'useless', 'validation', 'very', 'visible', 'wasted', 'weights', 'what', 'whats', 'when', 'who', 'whom', 'window', 'with', 'working', 'works', 'ya', 'yo', 'you', 'your']\n",
            "['Bot', 'Exit', 'Intro', 'NN', 'Olympus', 'Profane', 'SL', 'Ticket']\n",
            "128 documents [(['hi'], 'Intro'), (['how', 'are', 'you'], 'Intro'), (['is', 'anyone', 'there'], 'Intro'), (['hello'], 'Intro'), (['whats', 'up'], 'Intro'), (['hey'], 'Intro'), (['yo'], 'Intro'), (['listen'], 'Intro'), (['please', 'help', 'me'], 'Intro'), (['i', 'am', 'learner', 'from'], 'Intro'), (['i', 'belong', 'to'], 'Intro'), (['aiml', 'batch'], 'Intro'), (['aifl', 'batch'], 'Intro'), (['i', 'am', 'from'], 'Intro'), (['my', 'pm', 'is'], 'Intro'), (['blended'], 'Intro'), (['online'], 'Intro'), (['i', 'am', 'from'], 'Intro'), (['hey', 'ya'], 'Intro'), (['talking', 'to', 'you', 'for', 'first', 'time'], 'Intro'), (['thank', 'you'], 'Exit'), (['thanks'], 'Exit'), (['cya'], 'Exit'), (['see', 'you'], 'Exit'), (['later'], 'Exit'), (['see', 'you', 'later'], 'Exit'), (['goodbye'], 'Exit'), (['i', 'am', 'leaving'], 'Exit'), (['have', 'a', 'Good', 'day'], 'Exit'), (['you', 'helped', 'me'], 'Exit'), (['thanks', 'a', 'lot'], 'Exit'), (['thanks', 'a', 'ton'], 'Exit'), (['you', 'are', 'the', 'best'], 'Exit'), (['great', 'help'], 'Exit'), (['too', 'good'], 'Exit'), (['you', 'are', 'a', 'good', 'learning', 'buddy'], 'Exit'), (['olympus'], 'Olympus'), (['explain', 'me', 'how', 'olympus', 'works'], 'Olympus'), (['I', 'am', 'not', 'able', 'to', 'understand', 'olympus'], 'Olympus'), (['olympus', 'window', 'not', 'working'], 'Olympus'), (['no', 'access', 'to', 'olympus'], 'Olympus'), (['unable', 'to', 'see', 'link', 'in', 'olympus'], 'Olympus'), (['no', 'link', 'visible', 'on', 'olympus'], 'Olympus'), (['whom', 'to', 'contact', 'for', 'olympus'], 'Olympus'), (['lot', 'of', 'problem', 'with', 'olympus'], 'Olympus'), (['olypus', 'is', 'not', 'a', 'good', 'tool'], 'Olympus'), (['lot', 'of', 'problems', 'with', 'olympus'], 'Olympus'), (['how', 'to', 'use', 'olympus'], 'Olympus'), (['teach', 'me', 'olympus'], 'Olympus'), (['i', 'am', 'not', 'able', 'to', 'understand', 'svm'], 'SL'), (['explain', 'me', 'how', 'machine', 'learning', 'works'], 'SL'), (['i', 'am', 'not', 'able', 'to', 'understand', 'naive', 'bayes'], 'SL'), (['i', 'am', 'not', 'able', 'to', 'understand', 'logistic', 'regression'], 'SL'), (['i', 'am', 'not', 'able', 'to', 'understand', 'ensemble', 'techb=niques'], 'SL'), (['i', 'am', 'not', 'able', 'to', 'understand', 'knn'], 'SL'), (['i', 'am', 'not', 'able', 'to', 'understand', 'knn', 'imputer'], 'SL'), (['i', 'am', 'not', 'able', 'to', 'understand', 'cross', 'validation'], 'SL'), (['i', 'am', 'not', 'able', 'to', 'understand', 'boosting'], 'SL'), (['i', 'am', 'not', 'able', 'to', 'understand', 'random', 'forest'], 'SL'), (['i', 'am', 'not', 'able', 'to', 'understand', 'ada', 'boosting'], 'SL'), (['i', 'am', 'not', 'able', 'to', 'understand', 'gradient', 'boosting'], 'SL'), (['machine', 'learning'], 'SL'), (['ML'], 'SL'), (['SL'], 'SL'), (['supervised', 'learning'], 'SL'), (['knn'], 'SL'), (['logistic', 'regression'], 'SL'), (['regression'], 'SL'), (['classification'], 'SL'), (['naive', 'bayes'], 'SL'), (['nb'], 'SL'), (['ensemble', 'techniques'], 'SL'), (['bagging'], 'SL'), (['boosting'], 'SL'), (['ada', 'boosting'], 'SL'), (['ada'], 'SL'), (['gradient', 'boosting'], 'SL'), (['hyper', 'parameters'], 'SL'), (['what', 'is', 'deep', 'learning'], 'NN'), (['unable', 'to', 'understand', 'deep', 'learning'], 'NN'), (['explain', 'me', 'how', 'deep', 'learning', 'works'], 'NN'), (['i', 'am', 'not', 'able', 'to', 'understand', 'deep', 'learning'], 'NN'), (['not', 'able', 'to', 'understand', 'neural', 'nets'], 'NN'), (['very', 'diffult', 'to', 'understand', 'neural', 'nets'], 'NN'), (['unable', 'to', 'understand', 'neural', 'nets'], 'NN'), (['ann'], 'NN'), (['artificial', 'intelligence'], 'NN'), (['artificial', 'neural', 'networks'], 'NN'), (['weights'], 'NN'), (['activation', 'function'], 'NN'), (['hidden', 'layers'], 'NN'), (['softmax'], 'NN'), (['sigmoid'], 'NN'), (['relu'], 'NN'), (['otimizer'], 'NN'), (['forward', 'propagation'], 'NN'), (['backward', 'propagation'], 'NN'), (['epochs'], 'NN'), (['epoch'], 'NN'), (['what', 'is', 'an', 'epoch'], 'NN'), (['adam'], 'NN'), (['sgd'], 'NN'), (['what', 'is', 'your', 'name'], 'Bot'), (['who', 'are', 'you'], 'Bot'), (['name', 'please'], 'Bot'), (['when', 'are', 'your', 'hours', 'of', 'opertions'], 'Bot'), (['what', 'are', 'your', 'working', 'hours'], 'Bot'), (['hours', 'of', 'operation'], 'Bot'), (['working', 'hours'], 'Bot'), (['hours'], 'Bot'), (['what', 'the', 'hell'], 'Profane'), (['bloody', 'stupid', 'bot'], 'Profane'), (['do', 'you', 'think', 'you', 'are', 'very', 'smart'], 'Profane'), (['screw', 'you'], 'Profane'), (['i', 'hate', 'you'], 'Profane'), (['you', 'are', 'stupid'], 'Profane'), (['jerk'], 'Profane'), (['you', 'are', 'a', 'joke'], 'Profane'), (['useless', 'piece', 'of', 'shit'], 'Profane'), (['my', 'problem', 'is', 'not', 'solved'], 'Ticket'), (['you', 'did', 'not', 'help', 'me'], 'Ticket'), (['not', 'a', 'good', 'solution'], 'Ticket'), (['bad', 'solution'], 'Ticket'), (['not', 'good', 'solution'], 'Ticket'), (['no', 'help'], 'Ticket'), (['wasted', 'my', 'time'], 'Ticket'), (['useless', 'bot'], 'Ticket'), (['create', 'a', 'ticket'], 'Ticket')]\n",
            "8 classes ['Bot', 'Exit', 'Intro', 'NN', 'Olympus', 'Profane', 'SL', 'Ticket']\n",
            "162 unique lemmatized words ['Good', 'I', 'ML', 'SL', 'a', 'able', 'access', 'activation', 'ada', 'adam', 'aifl', 'aiml', 'am', 'an', 'ann', 'anyone', 'are', 'artificial', 'backward', 'bad', 'bagging', 'batch', 'bayes', 'belong', 'best', 'blended', 'bloody', 'boosting', 'bot', 'buddy', 'classification', 'contact', 'create', 'cross', 'cya', 'day', 'deep', 'did', 'diffult', 'do', 'ensemble', 'epoch', 'epochs', 'explain', 'first', 'for', 'forest', 'forward', 'from', 'function', 'good', 'goodbye', 'gradient', 'great', 'hate', 'have', 'hell', 'hello', 'help', 'helped', 'hey', 'hi', 'hidden', 'hours', 'how', 'hyper', 'i', 'imputer', 'in', 'intelligence', 'is', 'jerk', 'joke', 'knn', 'later', 'layers', 'learner', 'learning', 'leaving', 'link', 'listen', 'logistic', 'lot', 'machine', 'me', 'my', 'naive', 'name', 'nb', 'nets', 'networks', 'neural', 'no', 'not', 'of', 'olympus', 'olypus', 'on', 'online', 'operation', 'opertions', 'otimizer', 'parameters', 'piece', 'please', 'pm', 'problem', 'problems', 'propagation', 'random', 'regression', 'relu', 'screw', 'see', 'sgd', 'shit', 'sigmoid', 'smart', 'softmax', 'solution', 'solved', 'stupid', 'supervised', 'svm', 'talking', 'teach', 'techb=niques', 'techniques', 'thank', 'thanks', 'the', 'there', 'think', 'ticket', 'time', 'to', 'ton', 'too', 'tool', 'unable', 'understand', 'up', 'use', 'useless', 'validation', 'very', 'visible', 'wasted', 'weights', 'what', 'whats', 'when', 'who', 'whom', 'window', 'with', 'working', 'works', 'ya', 'yo', 'you', 'your']\n"
          ]
        },
        {
          "output_type": "stream",
          "name": "stderr",
          "text": [
            "[nltk_data] Downloading package omw-1.4 to /root/nltk_data...\n",
            "[nltk_data]   Package omw-1.4 is already up-to-date!\n"
          ]
        }
      ]
    },
    {
      "cell_type": "markdown",
      "source": [
        "Create training data"
      ],
      "metadata": {
        "id": "m-xh6IDYPWms"
      }
    },
    {
      "cell_type": "code",
      "source": [
        "training = []\n",
        "\n",
        "# create an empty array for our output\n",
        "output_emplty = [0] * len(classes)\n",
        "\n",
        "#training set, bag of words for each sentence\n",
        "for doc in documents:\n",
        "    # initialize our bag of words\n",
        "    bag = []\n",
        "    # list of tokenized words for the pattern\n",
        "    pattern_words = doc[0]\n",
        "    \n",
        "    # lemmatize each word - create base word, in attempt to represent related words\n",
        "    pattern_words = [lemmatizer.lemmatize(word.lower()) for word in pattern_words]\n",
        "    #print(pattern_words)\n",
        "    # create our bag of words array with 1, if word match found in current pattern\n",
        "    for w in words:\n",
        "        bag.append(1) if w in pattern_words else bag.append(0)\n",
        "    \n",
        "    # output is a '0' for each tag and '1' for current tag (for each pattern)\n",
        "    output_row = list(output_empty)\n",
        "    output_row[classes.index(doc[1])] = 1\n",
        "    training.append([bag, output_row])\n",
        "\n",
        "# shuffle features and converting it into numpy arrays\n",
        "random.shuffle(training)\n",
        "training = np.array(training)\n",
        "#print(training)\n",
        "# create train and test lists\n",
        "train_x = list(training[:,0])\n",
        "train_y = list(training[:,1])\n",
        "#print(train_x)\n",
        "#print(train_y)\n",
        "print(\"Training data created\")\n"
      ],
      "metadata": {
        "colab": {
          "base_uri": "https://localhost:8080/"
        },
        "id": "UqeVMzHqPVGW",
        "outputId": "6c7f4b39-f390-4920-e749-b39998a55fd6"
      },
      "execution_count": 21,
      "outputs": [
        {
          "output_type": "stream",
          "name": "stdout",
          "text": [
            "Training data created\n"
          ]
        }
      ]
    },
    {
      "cell_type": "markdown",
      "source": [
        "Create NN model to predict the results"
      ],
      "metadata": {
        "id": "eljXZB_Na9-W"
      }
    },
    {
      "cell_type": "code",
      "source": [
        "from keras.optimizers import SGD\n",
        "# Create NN model to predict the responses\n",
        "model = Sequential()\n",
        "model.add(Dense(128, input_shape=(len(train_x[0]),), activation='relu'))\n",
        "model.add(Dropout(0.5))\n",
        "model.add(Dense(64, activation='relu'))\n",
        "model.add(Dropout(0.5))\n",
        "model.add(Dense(len(train_y[0]), activation='softmax'))\n",
        "\n",
        "# Compile model. Stochastic gradient descent with Nesterov accelerated gradient gives good results for this model\n",
        "sgd = SGD(learning_rate=0.01, decay=1e-6, momentum=0.9, nesterov=True)\n",
        "model.compile(loss='categorical_crossentropy', optimizer=sgd, metrics=['accuracy'])\n",
        "\n",
        "#fitting and saving the model \n",
        "hist = model.fit(np.array(train_x), np.array(train_y), epochs=200, batch_size=5, verbose=1)\n",
        "model.save('chatbot.h5', hist) # we will pickle this model to use in the future\n",
        "print(\"\\n\")\n",
        "print(\"*\"*50)\n",
        "print(\"\\nModel Created Successfully!\")\n"
      ],
      "metadata": {
        "id": "46nM0LEAbVM6"
      },
      "execution_count": null,
      "outputs": []
    },
    {
      "cell_type": "code",
      "source": [
        "#load the saved model file\n",
        "model = load_model('chatbot.h5')\n",
        "intents = json.loads(open(\"/content/Foodo/trainbot.json\").read())\n",
        "words = pickle.load(open('words.pkl','rb'))\n",
        "classes = pickle.load(open('classes.pkl','rb'))"
      ],
      "metadata": {
        "id": "sFIpdNllhpmy"
      },
      "execution_count": 33,
      "outputs": []
    },
    {
      "cell_type": "markdown",
      "source": [
        "data cleaning"
      ],
      "metadata": {
        "id": "nYeN_xETiUbr"
      }
    },
    {
      "cell_type": "code",
      "source": [
        "def clean_up_sentence(sentence):\n",
        "\n",
        "    # tokenize the pattern - split words into array\n",
        "    sentence_words = nltk.word_tokenize(sentence)\n",
        "    \n",
        "    # stem each word - create short form for word\n",
        "    sentence_words = [lemmatizer.lemmatize(word.lower()) for word in sentence_words]\n",
        "    return sentence_words\n",
        "\n",
        "\n",
        "# return bag of words array: 0 or 1 for each word in the bag that exists in the sentence\n",
        "\n",
        "def bow(sentence, words, show_details=True):\n",
        "\n",
        "    # tokenize the pattern\n",
        "    sentence_words = clean_up_sentence(sentence)\n",
        "\n",
        "    # bag of words - matrix of N words, vocabulary matrix\n",
        "    bag = [0]*len(words) \n",
        "    for s in sentence_words:\n",
        "        for i,w in enumerate(words):\n",
        "            if w == s: \n",
        "               \n",
        "                # assign 1 if current word is in the vocabulary position\n",
        "                bag[i] = 1\n",
        "                if show_details:\n",
        "                    print (\"found in bag: %s\" % w)\n",
        "    return(np.array(bag))\n",
        "\n",
        "def predict_class(sentence, model):\n",
        "   \n",
        "    # filter out predictions below a threshold\n",
        "    p = bow(sentence, words,show_details=False)\n",
        "    res = model.predict(np.array([p]))[0]\n",
        "    error = 0.25\n",
        "    results = [[i,r] for i,r in enumerate(res) if r>error]\n",
        "    \n",
        "    # sort by strength of probability\n",
        "    results.sort(key=lambda x: x[1], reverse=True)\n",
        "    return_list = []\n",
        "    \n",
        "    for r in results:\n",
        "        return_list.append({\"intent\": classes[r[0]], \"probability\": str(r[1])})\n",
        "    return return_list"
      ],
      "metadata": {
        "id": "Ttg-xWhjiWa9"
      },
      "execution_count": 34,
      "outputs": []
    },
    {
      "cell_type": "code",
      "source": [
        "# function to get the response from the model\n",
        "\n",
        "def getResponse(ints, intents_json):\n",
        "    tag = ints[0]['intent']\n",
        "    list_of_intents = intents_json['intents']\n",
        "    for i in list_of_intents:\n",
        "        if(i['tag']== tag):\n",
        "            result = random.choice(i['responses'])\n",
        "            break\n",
        "    return result\n",
        "\n",
        "# function to predict the class and get the response\n",
        "\n",
        "def chatbot_response(text):\n",
        "    ints = predict_class(text, model)\n",
        "    res = getResponse(ints, intents)\n",
        "    return res"
      ],
      "metadata": {
        "id": "vIZ7AMHUmMrA"
      },
      "execution_count": 35,
      "outputs": []
    },
    {
      "cell_type": "markdown",
      "source": [
        "start the chat"
      ],
      "metadata": {
        "id": "b0ALRHNUmVZK"
      }
    },
    {
      "cell_type": "code",
      "source": [
        "# function to start the chat bot which will continue till the user type 'end'\n",
        "\n",
        "def start_chat():\n",
        "  print(\"Bot: This is Yashi! Your Personal Assistant.\\n\\n\")\n",
        "  while True:\n",
        "        inp = str(input()).lower()\n",
        "        if inp.lower()==\"end\":\n",
        "            break\n",
        "        if inp.lower()== '' or inp.lower()== '*':\n",
        "            print('Please re-phrase your query!')\n",
        "            print(\"-\"*50)\n",
        "        else:\n",
        "            print(f\"Bot: {chatbot_response(inp)}\"+'\\n')\n",
        "            print(\"-\"*50)"
      ],
      "metadata": {
        "id": "1pA3HBctmdph"
      },
      "execution_count": 39,
      "outputs": []
    },
    {
      "cell_type": "code",
      "source": [
        "# start the chat bot\n",
        "start_chat()"
      ],
      "metadata": {
        "colab": {
          "base_uri": "https://localhost:8080/"
        },
        "id": "5FUW1U8HnRNH",
        "outputId": "06d65865-79d8-4cb2-94ee-3c0c739b7098"
      },
      "execution_count": 40,
      "outputs": [
        {
          "name": "stdout",
          "output_type": "stream",
          "text": [
            "Bot: This is Yashi! Your Personal Assistant.\n",
            "\n",
            "\n",
            "hi\n",
            "1/1 [==============================] - 0s 86ms/step\n",
            "Bot: Hello! how can i help you ?\n",
            "\n",
            "--------------------------------------------------\n",
            "food\n",
            "1/1 [==============================] - 0s 19ms/step\n",
            "Bot: Link: Machine Learning wiki \n",
            "\n",
            "--------------------------------------------------\n",
            "deep learning\n",
            "1/1 [==============================] - 0s 19ms/step\n",
            "Bot: Link: Neural Nets wiki\n",
            "\n",
            "--------------------------------------------------\n",
            "pissu\n",
            "1/1 [==============================] - 0s 26ms/step\n",
            "Bot: Link: Machine Learning wiki \n",
            "\n",
            "--------------------------------------------------\n",
            "bye\n",
            "1/1 [==============================] - 0s 16ms/step\n",
            "Bot: Link: Machine Learning wiki \n",
            "\n",
            "--------------------------------------------------\n",
            "ok\n",
            "1/1 [==============================] - 0s 22ms/step\n",
            "Bot: Link: Machine Learning wiki \n",
            "\n",
            "--------------------------------------------------\n",
            "thank ou\n",
            "1/1 [==============================] - 0s 17ms/step\n",
            "Bot: I hope I was able to assist you, Good Bye\n",
            "\n",
            "--------------------------------------------------\n",
            "Bye\n",
            "1/1 [==============================] - 0s 24ms/step\n",
            "Bot: Link: Machine Learning wiki \n",
            "\n",
            "--------------------------------------------------\n",
            "end\n"
          ]
        }
      ]
    }
  ]
}